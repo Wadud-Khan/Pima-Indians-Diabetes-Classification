{
 "cells": [
  {
   "cell_type": "markdown",
   "id": "fb464d40",
   "metadata": {},
   "source": [
    "## Diabetes Data Analysis with Support Vector Machine Classification"
   ]
  },
  {
   "cell_type": "markdown",
   "id": "26dcbdbc",
   "metadata": {},
   "source": [
    "#### By Wadud Khan and Alex Dyson"
   ]
  },
  {
   "cell_type": "markdown",
   "id": "3d49b025",
   "metadata": {},
   "source": [
    "---"
   ]
  },
  {
   "cell_type": "markdown",
   "id": "5c3274d9",
   "metadata": {},
   "source": [
    "### The Data"
   ]
  },
  {
   "cell_type": "markdown",
   "id": "828af2d0",
   "metadata": {},
   "source": [
    "In 1990, __The National Institute of Diabetes and Digestive and Kidney Disease__ released a datset of a study done on a group of Pima Indians. The goal was to see what lifestyle/diagnostic factors could explain the presence of diabetes mellitus, as the group has been known to have high rate of diabetes ellitus. After a bit of digging into this datset I found out, all patients (observations) here are females atleast 21 years old of Pima Indian heritage. \n",
    "The dataset contains 769 observations and 9 variables. Here is a rundown of each variable individually:"
   ]
  },
  {
   "cell_type": "markdown",
   "id": "ae6cf258",
   "metadata": {},
   "source": [
    "__Pregnancies__: Number of times the individual was pregnant\n",
    "\n",
    "__Glucose__: Glucose concentration through an oral glucose test\n",
    "\n",
    "__Blood Pressure__: The individuals blood pressure\n",
    "\n",
    "__Skin Thickness__: The skin thickness of the individuals arm\n",
    "\n",
    "__Insulin__: Insulin blood concentration\n",
    "\n",
    "__BMI__: The individuals body mass index\n",
    "\n",
    "__Diabetes Pedigree Function__: a function which scores likelihood of diabetes based on       family history\n",
    "\n",
    "__Age__: The individuals age in years\n"
   ]
  },
  {
   "cell_type": "markdown",
   "id": "3dd0ce3f",
   "metadata": {},
   "source": [
    "___"
   ]
  },
  {
   "cell_type": "markdown",
   "id": "6923ca8e",
   "metadata": {},
   "source": [
    "# Classification with Support Vector Machines"
   ]
  },
  {
   "cell_type": "markdown",
   "id": "a0499ad4",
   "metadata": {},
   "source": [
    "### Importing Data"
   ]
  },
  {
   "cell_type": "code",
   "execution_count": 1,
   "id": "2ff408aa",
   "metadata": {},
   "outputs": [
    {
     "data": {
      "text/html": [
       "<div>\n",
       "<style scoped>\n",
       "    .dataframe tbody tr th:only-of-type {\n",
       "        vertical-align: middle;\n",
       "    }\n",
       "\n",
       "    .dataframe tbody tr th {\n",
       "        vertical-align: top;\n",
       "    }\n",
       "\n",
       "    .dataframe thead th {\n",
       "        text-align: right;\n",
       "    }\n",
       "</style>\n",
       "<table border=\"1\" class=\"dataframe\">\n",
       "  <thead>\n",
       "    <tr style=\"text-align: right;\">\n",
       "      <th></th>\n",
       "      <th>Pregnancies</th>\n",
       "      <th>Glucose</th>\n",
       "      <th>BloodPressure</th>\n",
       "      <th>SkinThickness</th>\n",
       "      <th>Insulin</th>\n",
       "      <th>BMI</th>\n",
       "      <th>DiabetesPedigreeFunction</th>\n",
       "      <th>Age</th>\n",
       "      <th>Outcome</th>\n",
       "    </tr>\n",
       "  </thead>\n",
       "  <tbody>\n",
       "    <tr>\n",
       "      <th>0</th>\n",
       "      <td>6</td>\n",
       "      <td>148</td>\n",
       "      <td>72</td>\n",
       "      <td>35</td>\n",
       "      <td>0</td>\n",
       "      <td>33.6</td>\n",
       "      <td>0.627</td>\n",
       "      <td>50</td>\n",
       "      <td>1</td>\n",
       "    </tr>\n",
       "    <tr>\n",
       "      <th>1</th>\n",
       "      <td>1</td>\n",
       "      <td>85</td>\n",
       "      <td>66</td>\n",
       "      <td>29</td>\n",
       "      <td>0</td>\n",
       "      <td>26.6</td>\n",
       "      <td>0.351</td>\n",
       "      <td>31</td>\n",
       "      <td>0</td>\n",
       "    </tr>\n",
       "    <tr>\n",
       "      <th>2</th>\n",
       "      <td>8</td>\n",
       "      <td>183</td>\n",
       "      <td>64</td>\n",
       "      <td>0</td>\n",
       "      <td>0</td>\n",
       "      <td>23.3</td>\n",
       "      <td>0.672</td>\n",
       "      <td>32</td>\n",
       "      <td>1</td>\n",
       "    </tr>\n",
       "    <tr>\n",
       "      <th>3</th>\n",
       "      <td>1</td>\n",
       "      <td>89</td>\n",
       "      <td>66</td>\n",
       "      <td>23</td>\n",
       "      <td>94</td>\n",
       "      <td>28.1</td>\n",
       "      <td>0.167</td>\n",
       "      <td>21</td>\n",
       "      <td>0</td>\n",
       "    </tr>\n",
       "    <tr>\n",
       "      <th>4</th>\n",
       "      <td>0</td>\n",
       "      <td>137</td>\n",
       "      <td>40</td>\n",
       "      <td>35</td>\n",
       "      <td>168</td>\n",
       "      <td>43.1</td>\n",
       "      <td>2.288</td>\n",
       "      <td>33</td>\n",
       "      <td>1</td>\n",
       "    </tr>\n",
       "  </tbody>\n",
       "</table>\n",
       "</div>"
      ],
      "text/plain": [
       "   Pregnancies  Glucose  BloodPressure  SkinThickness  Insulin   BMI  \\\n",
       "0            6      148             72             35        0  33.6   \n",
       "1            1       85             66             29        0  26.6   \n",
       "2            8      183             64              0        0  23.3   \n",
       "3            1       89             66             23       94  28.1   \n",
       "4            0      137             40             35      168  43.1   \n",
       "\n",
       "   DiabetesPedigreeFunction  Age  Outcome  \n",
       "0                     0.627   50        1  \n",
       "1                     0.351   31        0  \n",
       "2                     0.672   32        1  \n",
       "3                     0.167   21        0  \n",
       "4                     2.288   33        1  "
      ]
     },
     "execution_count": 1,
     "metadata": {},
     "output_type": "execute_result"
    }
   ],
   "source": [
    "import pandas as pd\n",
    "\n",
    "diabetes = pd.read_csv(\"C:/Users/Wadud/Downloads/diabetes.csv\")\n",
    "\n",
    "\n",
    "diabetes.head()"
   ]
  },
  {
   "cell_type": "markdown",
   "id": "634346af",
   "metadata": {},
   "source": [
    "---"
   ]
  },
  {
   "cell_type": "markdown",
   "id": "e9b3f165",
   "metadata": {},
   "source": [
    "### Test / Train Split"
   ]
  },
  {
   "cell_type": "code",
   "execution_count": 2,
   "id": "6877b0c8",
   "metadata": {},
   "outputs": [],
   "source": [
    "feature_set = ['Pregnancies', 'Glucose', 'BloodPressure','SkinThickness','Insulin','BMI','DiabetesPedigreeFunction','Age']\n",
    "features = diabetes[feature_set]\n",
    "target = diabetes.Outcome\n",
    "\n",
    "#Partition Data into Test and Training splits\n",
    "from sklearn.model_selection import train_test_split\n",
    "\n",
    "\n",
    "feature_train,feature_test, target_train, target_test = \\\n",
    "train_test_split(features, target, test_size=0.3, random_state=1)\n"
   ]
  },
  {
   "cell_type": "markdown",
   "id": "e715d698",
   "metadata": {},
   "source": [
    "### Model Building"
   ]
  },
  {
   "cell_type": "code",
   "execution_count": 3,
   "id": "7e2b6065",
   "metadata": {},
   "outputs": [],
   "source": [
    "#import SVM model\n",
    "from sklearn import svm\n",
    "\n",
    "#create a SVM classifier object\n",
    "clf = svm.SVC(kernel = 'linear')\n",
    "\n",
    "#Training the Model\n",
    "clf.fit(feature_train,target_train)\n",
    "\n",
    "#Predict the Target Variable for test dataset\n",
    "predictions = clf.predict(feature_test)\n",
    "\n",
    "\n",
    "\n",
    "X = diabetes.drop(columns = 'Outcome', axis=1)"
   ]
  },
  {
   "cell_type": "markdown",
   "id": "856147e5",
   "metadata": {},
   "source": [
    "### Model is ready to predict"
   ]
  },
  {
   "cell_type": "code",
   "execution_count": 4,
   "id": "f4f76f34",
   "metadata": {},
   "outputs": [
    {
     "data": {
      "text/plain": [
       "array([  3.   , 100.   ,  66.   ,  23.   ,  94.   ,  28.   ,   0.627,\n",
       "        49.   ])"
      ]
     },
     "execution_count": 4,
     "metadata": {},
     "output_type": "execute_result"
    }
   ],
   "source": [
    "#feed it a numpy array\n",
    "\n",
    "example = (3,100,66,23,94,28,0.627,49)\n",
    "\n",
    "import numpy as np\n",
    "\n",
    "#transform into an array \n",
    "example = np.asarray(example)\n",
    "\n",
    "example"
   ]
  },
  {
   "cell_type": "code",
   "execution_count": 5,
   "id": "4b792223",
   "metadata": {},
   "outputs": [],
   "source": [
    "#reshaping the array\n",
    "\n",
    "example_reshaped = example.reshape(1,-1)"
   ]
  },
  {
   "cell_type": "code",
   "execution_count": 6,
   "id": "b4c53100",
   "metadata": {},
   "outputs": [],
   "source": [
    "#finally we  standardize the  example data\n",
    "\n",
    "\n",
    "\n",
    "\n",
    "\n",
    "from sklearn.preprocessing import StandardScaler\n",
    "\n",
    "scaler = StandardScaler()\n",
    "scaler.fit(X)\n",
    "standardized_data = scaler.transform(X)\n",
    "\n",
    "\n",
    "standardized_example_reshaped = scaler.transform(example_reshaped)"
   ]
  },
  {
   "cell_type": "code",
   "execution_count": 7,
   "id": "8b28f2b4",
   "metadata": {},
   "outputs": [
    {
     "name": "stdout",
     "output_type": "stream",
     "text": [
      "[[ 0.63994726  0.84832379  0.14964075 ...  0.20401277  0.46849198\n",
      "   1.4259954 ]\n",
      " [-0.84488505 -1.12339636 -0.16054575 ... -0.68442195 -0.36506078\n",
      "  -0.19067191]\n",
      " [ 1.23388019  1.94372388 -0.26394125 ... -1.10325546  0.60439732\n",
      "  -0.10558415]\n",
      " ...\n",
      " [ 0.3429808   0.00330087  0.14964075 ... -0.73518964 -0.68519336\n",
      "  -0.27575966]\n",
      " [-0.84488505  0.1597866  -0.47073225 ... -0.24020459 -0.37110101\n",
      "   1.17073215]\n",
      " [-0.84488505 -0.8730192   0.04624525 ... -0.20212881 -0.47378505\n",
      "  -0.87137393]]\n"
     ]
    }
   ],
   "source": [
    "print(standardized_data)"
   ]
  },
  {
   "cell_type": "code",
   "execution_count": 8,
   "id": "59016784",
   "metadata": {},
   "outputs": [
    {
     "name": "stdout",
     "output_type": "stream",
     "text": [
      "[[ 0.63994726  0.84832379  0.14964075 ...  0.20401277  0.46849198\n",
      "   1.4259954 ]\n",
      " [-0.84488505 -1.12339636 -0.16054575 ... -0.68442195 -0.36506078\n",
      "  -0.19067191]\n",
      " [ 1.23388019  1.94372388 -0.26394125 ... -1.10325546  0.60439732\n",
      "  -0.10558415]\n",
      " ...\n",
      " [ 0.3429808   0.00330087  0.14964075 ... -0.73518964 -0.68519336\n",
      "  -0.27575966]\n",
      " [-0.84488505  0.1597866  -0.47073225 ... -0.24020459 -0.37110101\n",
      "   1.17073215]\n",
      " [-0.84488505 -0.8730192   0.04624525 ... -0.20212881 -0.47378505\n",
      "  -0.87137393]]\n",
      "0      1\n",
      "1      0\n",
      "2      1\n",
      "3      0\n",
      "4      1\n",
      "      ..\n",
      "763    0\n",
      "764    0\n",
      "765    0\n",
      "766    1\n",
      "767    0\n",
      "Name: Outcome, Length: 768, dtype: int64\n"
     ]
    }
   ],
   "source": [
    "X = standardized_data\n",
    "print(X)\n",
    "Y = diabetes['Outcome']\n",
    "print(Y)"
   ]
  },
  {
   "cell_type": "markdown",
   "id": "6d9b42cf",
   "metadata": {},
   "source": [
    "#### Here we put our reshaped, standardized array example into the model and we should get a result"
   ]
  },
  {
   "cell_type": "code",
   "execution_count": 16,
   "id": "41605776",
   "metadata": {},
   "outputs": [],
   "source": [
    "prediction = clf.predict(standardized_example_reshaped)"
   ]
  },
  {
   "cell_type": "code",
   "execution_count": 10,
   "id": "42393c24",
   "metadata": {},
   "outputs": [
    {
     "name": "stdout",
     "output_type": "stream",
     "text": [
      "[0]\n"
     ]
    }
   ],
   "source": [
    "print(prediction)"
   ]
  },
  {
   "cell_type": "markdown",
   "id": "353131b8",
   "metadata": {},
   "source": [
    "#### This Person Is Not Diabetic"
   ]
  },
  {
   "cell_type": "markdown",
   "id": "4c50514e",
   "metadata": {},
   "source": [
    "---"
   ]
  },
  {
   "cell_type": "code",
   "execution_count": 11,
   "id": "0d074133",
   "metadata": {},
   "outputs": [
    {
     "data": {
      "text/html": [
       "<div>\n",
       "<style scoped>\n",
       "    .dataframe tbody tr th:only-of-type {\n",
       "        vertical-align: middle;\n",
       "    }\n",
       "\n",
       "    .dataframe tbody tr th {\n",
       "        vertical-align: top;\n",
       "    }\n",
       "\n",
       "    .dataframe thead th {\n",
       "        text-align: right;\n",
       "    }\n",
       "</style>\n",
       "<table border=\"1\" class=\"dataframe\">\n",
       "  <thead>\n",
       "    <tr style=\"text-align: right;\">\n",
       "      <th></th>\n",
       "      <th>Pregnancies</th>\n",
       "      <th>Glucose</th>\n",
       "      <th>BloodPressure</th>\n",
       "      <th>SkinThickness</th>\n",
       "      <th>Insulin</th>\n",
       "      <th>BMI</th>\n",
       "      <th>DiabetesPedigreeFunction</th>\n",
       "      <th>Age</th>\n",
       "      <th>Outcome</th>\n",
       "    </tr>\n",
       "  </thead>\n",
       "  <tbody>\n",
       "    <tr>\n",
       "      <th>0</th>\n",
       "      <td>6</td>\n",
       "      <td>148</td>\n",
       "      <td>72</td>\n",
       "      <td>35</td>\n",
       "      <td>0</td>\n",
       "      <td>33.6</td>\n",
       "      <td>0.627</td>\n",
       "      <td>50</td>\n",
       "      <td>1</td>\n",
       "    </tr>\n",
       "    <tr>\n",
       "      <th>1</th>\n",
       "      <td>1</td>\n",
       "      <td>85</td>\n",
       "      <td>66</td>\n",
       "      <td>29</td>\n",
       "      <td>0</td>\n",
       "      <td>26.6</td>\n",
       "      <td>0.351</td>\n",
       "      <td>31</td>\n",
       "      <td>0</td>\n",
       "    </tr>\n",
       "    <tr>\n",
       "      <th>2</th>\n",
       "      <td>8</td>\n",
       "      <td>183</td>\n",
       "      <td>64</td>\n",
       "      <td>0</td>\n",
       "      <td>0</td>\n",
       "      <td>23.3</td>\n",
       "      <td>0.672</td>\n",
       "      <td>32</td>\n",
       "      <td>1</td>\n",
       "    </tr>\n",
       "    <tr>\n",
       "      <th>3</th>\n",
       "      <td>1</td>\n",
       "      <td>89</td>\n",
       "      <td>66</td>\n",
       "      <td>23</td>\n",
       "      <td>94</td>\n",
       "      <td>28.1</td>\n",
       "      <td>0.167</td>\n",
       "      <td>21</td>\n",
       "      <td>0</td>\n",
       "    </tr>\n",
       "    <tr>\n",
       "      <th>4</th>\n",
       "      <td>0</td>\n",
       "      <td>137</td>\n",
       "      <td>40</td>\n",
       "      <td>35</td>\n",
       "      <td>168</td>\n",
       "      <td>43.1</td>\n",
       "      <td>2.288</td>\n",
       "      <td>33</td>\n",
       "      <td>1</td>\n",
       "    </tr>\n",
       "  </tbody>\n",
       "</table>\n",
       "</div>"
      ],
      "text/plain": [
       "   Pregnancies  Glucose  BloodPressure  SkinThickness  Insulin   BMI  \\\n",
       "0            6      148             72             35        0  33.6   \n",
       "1            1       85             66             29        0  26.6   \n",
       "2            8      183             64              0        0  23.3   \n",
       "3            1       89             66             23       94  28.1   \n",
       "4            0      137             40             35      168  43.1   \n",
       "\n",
       "   DiabetesPedigreeFunction  Age  Outcome  \n",
       "0                     0.627   50        1  \n",
       "1                     0.351   31        0  \n",
       "2                     0.672   32        1  \n",
       "3                     0.167   21        0  \n",
       "4                     2.288   33        1  "
      ]
     },
     "execution_count": 11,
     "metadata": {},
     "output_type": "execute_result"
    }
   ],
   "source": [
    "diabetes.head()"
   ]
  },
  {
   "cell_type": "markdown",
   "id": "e08683f3",
   "metadata": {},
   "source": [
    "# Classification with Logistic Regression"
   ]
  },
  {
   "cell_type": "code",
   "execution_count": 142,
   "id": "604581c6",
   "metadata": {},
   "outputs": [],
   "source": [
    "from matplotlib import pyplot as plt\n",
    "from matplotlib import figure\n",
    "\n",
    "\n",
    "import seaborn as sns\n",
    "\n",
    "\n",
    "%matplotlib inline\n",
    "plt.rcParams[\"figure.figsize\"] = (10,7)"
   ]
  },
  {
   "cell_type": "markdown",
   "id": "5f20a30b",
   "metadata": {},
   "source": [
    "### Looking at Age as a predictor"
   ]
  },
  {
   "cell_type": "code",
   "execution_count": 143,
   "id": "318c4f5a",
   "metadata": {},
   "outputs": [
    {
     "data": {
      "text/plain": [
       "Text(0, 0.5, 'P(Outcome)')"
      ]
     },
     "execution_count": 143,
     "metadata": {},
     "output_type": "execute_result"
    },
    {
     "data": {
      "image/png": "[encoded data removed]",
      "text/plain": [
       "<Figure size 720x504 with 1 Axes>"
      ]
     },
     "metadata": {
      "needs_background": "light"
     },
     "output_type": "display_data"
    }
   ],
   "source": [
    "#Log_Reg_AGE = plt.scatter(diabetes.Age, diabetes.Outcome, marker='+',color='blue')\n",
    "#plt.xlabel('Age')\n",
    "#plt.ylabel('Outcome')\n",
    "\n",
    "x = diabetes['Age']\n",
    "y = diabetes['Outcome']\n",
    "\n",
    "Log_Reg_AGE = sns.regplot(x=x,y=y,data=diabetes,logistic= True, x_jitter = True)\n",
    "plt.ylabel('P(Outcome)')\n",
    "\n"
   ]
  },
  {
   "cell_type": "code",
   "execution_count": 144,
   "id": "88b80b9e",
   "metadata": {},
   "outputs": [],
   "source": [
    "from sklearn.model_selection import train_test_split\n",
    "\n",
    "X_train, X_test, y_train, y_test = train_test_split(diabetes[['Age']],diabetes.Outcome,train_size=0.7)"
   ]
  },
  {
   "cell_type": "code",
   "execution_count": 145,
   "id": "b14e3fe7",
   "metadata": {},
   "outputs": [
    {
     "data": {
      "text/plain": [
       "LogisticRegression()"
      ]
     },
     "execution_count": 145,
     "metadata": {},
     "output_type": "execute_result"
    }
   ],
   "source": [
    "from sklearn.linear_model import LogisticRegression\n",
    "\n",
    "model = LogisticRegression()\n",
    "\n",
    "model.fit(X_train,y_train)"
   ]
  },
  {
   "cell_type": "code",
   "execution_count": 146,
   "id": "54778dd7",
   "metadata": {},
   "outputs": [
    {
     "data": {
      "text/plain": [
       "array([0, 0, 0, 0, 0, 0, 0, 0, 0, 0, 0, 0, 0, 0, 0, 1, 0, 1, 0, 0, 0, 0,\n",
       "       0, 0, 1, 1, 0, 0, 0, 0, 0, 0, 0, 0, 1, 0, 0, 0, 0, 0, 0, 0, 0, 0,\n",
       "       0, 0, 0, 0, 0, 0, 0, 0, 0, 1, 0, 0, 1, 0, 1, 0, 1, 0, 0, 0, 1, 0,\n",
       "       0, 0, 0, 0, 1, 0, 0, 0, 0, 0, 1, 0, 0, 1, 0, 0, 1, 0, 0, 0, 0, 0,\n",
       "       0, 0, 0, 0, 0, 1, 0, 0, 0, 0, 0, 0, 0, 0, 0, 0, 0, 1, 0, 0, 0, 0,\n",
       "       0, 1, 0, 0, 0, 0, 0, 0, 0, 0, 0, 0, 0, 1, 0, 0, 0, 0, 0, 0, 0, 0,\n",
       "       0, 0, 0, 0, 0, 0, 1, 0, 0, 0, 0, 0, 0, 0, 0, 0, 0, 0, 0, 0, 0, 0,\n",
       "       0, 0, 0, 0, 0, 0, 0, 0, 0, 1, 0, 0, 1, 0, 0, 0, 0, 0, 0, 1, 1, 0,\n",
       "       1, 0, 0, 0, 0, 0, 0, 0, 0, 0, 0, 0, 0, 0, 0, 0, 0, 0, 0, 0, 0, 0,\n",
       "       0, 1, 0, 0, 0, 1, 1, 0, 0, 0, 0, 0, 0, 0, 0, 0, 0, 1, 0, 0, 0, 0,\n",
       "       0, 0, 0, 0, 0, 0, 0, 0, 0, 0, 0], dtype=int64)"
      ]
     },
     "execution_count": 146,
     "metadata": {},
     "output_type": "execute_result"
    }
   ],
   "source": [
    "model.predict(X_test)"
   ]
  },
  {
   "cell_type": "code",
   "execution_count": 147,
   "id": "02e58aa2",
   "metadata": {},
   "outputs": [
    {
     "data": {
      "text/plain": [
       "0.6147186147186147"
      ]
     },
     "execution_count": 147,
     "metadata": {},
     "output_type": "execute_result"
    }
   ],
   "source": [
    "model.score(X_test,y_test)  #Accuracy of the Model"
   ]
  },
  {
   "cell_type": "markdown",
   "id": "561b84d3",
   "metadata": {},
   "source": [
    "Our accuracy score is 61% it's not the best but we can change this by having more data and playing around with the size of the test train split. It could also be that Age is not a good predictor."
   ]
  },
  {
   "cell_type": "markdown",
   "id": "42e7d236",
   "metadata": {},
   "source": [
    "### We can also look at probabilities"
   ]
  },
  {
   "cell_type": "code",
   "execution_count": 148,
   "id": "978cc7ce",
   "metadata": {},
   "outputs": [
    {
     "data": {
      "text/html": [
       "<div>\n",
       "<style scoped>\n",
       "    .dataframe tbody tr th:only-of-type {\n",
       "        vertical-align: middle;\n",
       "    }\n",
       "\n",
       "    .dataframe tbody tr th {\n",
       "        vertical-align: top;\n",
       "    }\n",
       "\n",
       "    .dataframe thead th {\n",
       "        text-align: right;\n",
       "    }\n",
       "</style>\n",
       "<table border=\"1\" class=\"dataframe\">\n",
       "  <thead>\n",
       "    <tr style=\"text-align: right;\">\n",
       "      <th></th>\n",
       "      <th>Age</th>\n",
       "    </tr>\n",
       "  </thead>\n",
       "  <tbody>\n",
       "    <tr>\n",
       "      <th>406</th>\n",
       "      <td>46</td>\n",
       "    </tr>\n",
       "    <tr>\n",
       "      <th>733</th>\n",
       "      <td>22</td>\n",
       "    </tr>\n",
       "    <tr>\n",
       "      <th>269</th>\n",
       "      <td>28</td>\n",
       "    </tr>\n",
       "    <tr>\n",
       "      <th>615</th>\n",
       "      <td>27</td>\n",
       "    </tr>\n",
       "    <tr>\n",
       "      <th>59</th>\n",
       "      <td>22</td>\n",
       "    </tr>\n",
       "  </tbody>\n",
       "</table>\n",
       "</div>"
      ],
      "text/plain": [
       "     Age\n",
       "406   46\n",
       "733   22\n",
       "269   28\n",
       "615   27\n",
       "59    22"
      ]
     },
     "execution_count": 148,
     "metadata": {},
     "output_type": "execute_result"
    }
   ],
   "source": [
    "X_test.head()"
   ]
  },
  {
   "cell_type": "code",
   "execution_count": 149,
   "id": "ddbbe3f1",
   "metadata": {},
   "outputs": [
    {
     "data": {
      "text/plain": [
       "406    1\n",
       "733    0\n",
       "269    1\n",
       "615    0\n",
       "59     0\n",
       "Name: Outcome, dtype: int64"
      ]
     },
     "execution_count": 149,
     "metadata": {},
     "output_type": "execute_result"
    }
   ],
   "source": [
    "y_test.head()"
   ]
  },
  {
   "cell_type": "markdown",
   "id": "cee4ec31",
   "metadata": {},
   "source": [
    "The number on the left shows us the probability that they won't have diabetes and the number on the right shows us they probability that the will:"
   ]
  },
  {
   "cell_type": "code",
   "execution_count": 151,
   "id": "361fde47",
   "metadata": {},
   "outputs": [
    {
     "data": {
      "text/plain": [
       "array([[0.53889468, 0.46110532],\n",
       "       [0.76457483, 0.23542517],\n",
       "       [0.71553463, 0.28446537],\n",
       "       [0.72412241, 0.27587759],\n",
       "       [0.76457483, 0.23542517],\n",
       "       [0.70678778, 0.29321222],\n",
       "       [0.76457483, 0.23542517],\n",
       "       [0.70678778, 0.29321222],\n",
       "       [0.76457483, 0.23542517],\n",
       "       [0.73254784, 0.26745216],\n",
       "       [0.60142399, 0.39857601],\n",
       "       [0.65120168, 0.34879832],\n",
       "       [0.54945735, 0.45054265],\n",
       "       [0.74080805, 0.25919195],\n",
       "       [0.75682341, 0.24317659],\n",
       "       [0.47511693, 0.52488307],\n",
       "       [0.71553463, 0.28446537],\n",
       "       [0.4857464 , 0.5142536 ],\n",
       "       [0.65120168, 0.34879832],\n",
       "       [0.68883198, 0.31116802],\n",
       "       [0.76457483, 0.23542517],\n",
       "       [0.63161608, 0.36838392],\n",
       "       [0.74890059, 0.25109941],\n",
       "       [0.76457483, 0.23542517],\n",
       "       [0.44340144, 0.55659856],\n",
       "       [0.47511693, 0.52488307],\n",
       "       [0.73254784, 0.26745216],\n",
       "       [0.75682341, 0.24317659],\n",
       "       [0.53889468, 0.46110532],\n",
       "       [0.5176737 , 0.4823263 ],\n",
       "       [0.77215355, 0.22784645],\n",
       "       [0.77215355, 0.22784645],\n",
       "       [0.71553463, 0.28446537],\n",
       "       [0.59117315, 0.40882685],\n",
       "       [0.4121407 , 0.5878593 ],\n",
       "       [0.73254784, 0.26745216],\n",
       "       [0.72412241, 0.27587759],\n",
       "       [0.65120168, 0.34879832],\n",
       "       [0.55997562, 0.44002438],\n",
       "       [0.67028955, 0.32971045],\n",
       "       [0.67028955, 0.32971045],\n",
       "       [0.76457483, 0.23542517],\n",
       "       [0.71553463, 0.28446537],\n",
       "       [0.60142399, 0.39857601],\n",
       "       [0.70678778, 0.29321222],\n",
       "       [0.68883198, 0.31116802],\n",
       "       [0.67963168, 0.32036832],\n",
       "       [0.69788552, 0.30211448],\n",
       "       [0.59117315, 0.40882685],\n",
       "       [0.74890059, 0.25109941],\n",
       "       [0.62165326, 0.37834674],\n",
       "       [0.59117315, 0.40882685],\n",
       "       [0.75682341, 0.24317659],\n",
       "       [0.42249533, 0.57750467],\n",
       "       [0.67028955, 0.32971045],\n",
       "       [0.58084241, 0.41915759],\n",
       "       [0.453935  , 0.546065  ],\n",
       "       [0.55997562, 0.44002438],\n",
       "       [0.36168773, 0.63831227],\n",
       "       [0.57044031, 0.42955969],\n",
       "       [0.39167133, 0.60832867],\n",
       "       [0.71553463, 0.28446537],\n",
       "       [0.67963168, 0.32036832],\n",
       "       [0.59117315, 0.40882685],\n",
       "       [0.36168773, 0.63831227],\n",
       "       [0.71553463, 0.28446537],\n",
       "       [0.77215355, 0.22784645],\n",
       "       [0.58084241, 0.41915759],\n",
       "       [0.77215355, 0.22784645],\n",
       "       [0.74080805, 0.25919195],\n",
       "       [0.49638877, 0.50361123],\n",
       "       [0.70678778, 0.29321222],\n",
       "       [0.63161608, 0.36838392],\n",
       "       [0.74890059, 0.25109941],\n",
       "       [0.77215355, 0.22784645],\n",
       "       [0.76457483, 0.23542517],\n",
       "       [0.4121407 , 0.5878593 ],\n",
       "       [0.77215355, 0.22784645],\n",
       "       [0.53889468, 0.46110532],\n",
       "       [0.32335735, 0.67664265],\n",
       "       [0.74890059, 0.25109941],\n",
       "       [0.62165326, 0.37834674],\n",
       "       [0.381573  , 0.618427  ],\n",
       "       [0.76457483, 0.23542517],\n",
       "       [0.73254784, 0.26745216],\n",
       "       [0.75682341, 0.24317659],\n",
       "       [0.53889468, 0.46110532],\n",
       "       [0.62165326, 0.37834674],\n",
       "       [0.77215355, 0.22784645],\n",
       "       [0.62165326, 0.37834674],\n",
       "       [0.74080805, 0.25919195],\n",
       "       [0.72412241, 0.27587759],\n",
       "       [0.74890059, 0.25109941],\n",
       "       [0.49638877, 0.50361123],\n",
       "       [0.64146787, 0.35853213],\n",
       "       [0.54945735, 0.45054265],\n",
       "       [0.67028955, 0.32971045],\n",
       "       [0.65120168, 0.34879832],\n",
       "       [0.67963168, 0.32036832],\n",
       "       [0.5176737 , 0.4823263 ],\n",
       "       [0.75682341, 0.24317659],\n",
       "       [0.60142399, 0.39857601],\n",
       "       [0.69788552, 0.30211448],\n",
       "       [0.63161608, 0.36838392],\n",
       "       [0.67028955, 0.32971045],\n",
       "       [0.4857464 , 0.5142536 ],\n",
       "       [0.63161608, 0.36838392],\n",
       "       [0.73254784, 0.26745216],\n",
       "       [0.67963168, 0.32036832],\n",
       "       [0.50703442, 0.49296558],\n",
       "       [0.68883198, 0.31116802],\n",
       "       [0.49638877, 0.50361123],\n",
       "       [0.74890059, 0.25109941],\n",
       "       [0.73254784, 0.26745216],\n",
       "       [0.74080805, 0.25919195],\n",
       "       [0.68883198, 0.31116802],\n",
       "       [0.54945735, 0.45054265],\n",
       "       [0.74080805, 0.25919195],\n",
       "       [0.75682341, 0.24317659],\n",
       "       [0.77215355, 0.22784645],\n",
       "       [0.76457483, 0.23542517],\n",
       "       [0.77215355, 0.22784645],\n",
       "       [0.61158668, 0.38841332],\n",
       "       [0.4857464 , 0.5142536 ],\n",
       "       [0.63161608, 0.36838392],\n",
       "       [0.73254784, 0.26745216],\n",
       "       [0.71553463, 0.28446537],\n",
       "       [0.70678778, 0.29321222],\n",
       "       [0.72412241, 0.27587759],\n",
       "       [0.74080805, 0.25919195],\n",
       "       [0.74080805, 0.25919195],\n",
       "       [0.58084241, 0.41915759],\n",
       "       [0.72412241, 0.27587759],\n",
       "       [0.77215355, 0.22784645],\n",
       "       [0.55997562, 0.44002438],\n",
       "       [0.50703442, 0.49296558],\n",
       "       [0.74890059, 0.25109941],\n",
       "       [0.75682341, 0.24317659],\n",
       "       [0.453935  , 0.546065  ],\n",
       "       [0.59117315, 0.40882685],\n",
       "       [0.52829698, 0.47170302],\n",
       "       [0.75682341, 0.24317659],\n",
       "       [0.74080805, 0.25919195],\n",
       "       [0.5176737 , 0.4823263 ],\n",
       "       [0.74080805, 0.25919195],\n",
       "       [0.68883198, 0.31116802],\n",
       "       [0.59117315, 0.40882685],\n",
       "       [0.73254784, 0.26745216],\n",
       "       [0.77215355, 0.22784645],\n",
       "       [0.67028955, 0.32971045],\n",
       "       [0.76457483, 0.23542517],\n",
       "       [0.74890059, 0.25109941],\n",
       "       [0.77215355, 0.22784645],\n",
       "       [0.65120168, 0.34879832],\n",
       "       [0.75682341, 0.24317659],\n",
       "       [0.75682341, 0.24317659],\n",
       "       [0.70678778, 0.29321222],\n",
       "       [0.75682341, 0.24317659],\n",
       "       [0.72412241, 0.27587759],\n",
       "       [0.76457483, 0.23542517],\n",
       "       [0.67963168, 0.32036832],\n",
       "       [0.70678778, 0.29321222],\n",
       "       [0.59117315, 0.40882685],\n",
       "       [0.39167133, 0.60832867],\n",
       "       [0.69788552, 0.30211448],\n",
       "       [0.70678778, 0.29321222],\n",
       "       [0.40186325, 0.59813675],\n",
       "       [0.76457483, 0.23542517],\n",
       "       [0.77215355, 0.22784645],\n",
       "       [0.72412241, 0.27587759],\n",
       "       [0.64146787, 0.35853213],\n",
       "       [0.62165326, 0.37834674],\n",
       "       [0.58084241, 0.41915759],\n",
       "       [0.39167133, 0.60832867],\n",
       "       [0.49638877, 0.50361123],\n",
       "       [0.66081096, 0.33918904],\n",
       "       [0.4121407 , 0.5878593 ],\n",
       "       [0.76457483, 0.23542517],\n",
       "       [0.75682341, 0.24317659],\n",
       "       [0.74890059, 0.25109941],\n",
       "       [0.63161608, 0.36838392],\n",
       "       [0.71553463, 0.28446537],\n",
       "       [0.66081096, 0.33918904],\n",
       "       [0.76457483, 0.23542517],\n",
       "       [0.77215355, 0.22784645],\n",
       "       [0.73254784, 0.26745216],\n",
       "       [0.77215355, 0.22784645],\n",
       "       [0.55997562, 0.44002438],\n",
       "       [0.74890059, 0.25109941],\n",
       "       [0.54945735, 0.45054265],\n",
       "       [0.71553463, 0.28446537],\n",
       "       [0.68883198, 0.31116802],\n",
       "       [0.67963168, 0.32036832],\n",
       "       [0.76457483, 0.23542517],\n",
       "       [0.66081096, 0.33918904],\n",
       "       [0.75682341, 0.24317659],\n",
       "       [0.64146787, 0.35853213],\n",
       "       [0.64146787, 0.35853213],\n",
       "       [0.76457483, 0.23542517],\n",
       "       [0.31411087, 0.68588913],\n",
       "       [0.67963168, 0.32036832],\n",
       "       [0.72412241, 0.27587759],\n",
       "       [0.55997562, 0.44002438],\n",
       "       [0.453935  , 0.546065  ],\n",
       "       [0.47511693, 0.52488307],\n",
       "       [0.70678778, 0.29321222],\n",
       "       [0.61158668, 0.38841332],\n",
       "       [0.74080805, 0.25919195],\n",
       "       [0.55997562, 0.44002438],\n",
       "       [0.77215355, 0.22784645],\n",
       "       [0.59117315, 0.40882685],\n",
       "       [0.53889468, 0.46110532],\n",
       "       [0.77215355, 0.22784645],\n",
       "       [0.75682341, 0.24317659],\n",
       "       [0.71553463, 0.28446537],\n",
       "       [0.36168773, 0.63831227],\n",
       "       [0.63161608, 0.36838392],\n",
       "       [0.74080805, 0.25919195],\n",
       "       [0.72412241, 0.27587759],\n",
       "       [0.60142399, 0.39857601],\n",
       "       [0.74890059, 0.25109941],\n",
       "       [0.68883198, 0.31116802],\n",
       "       [0.68883198, 0.31116802],\n",
       "       [0.75682341, 0.24317659],\n",
       "       [0.77215355, 0.22784645],\n",
       "       [0.67963168, 0.32036832],\n",
       "       [0.73254784, 0.26745216],\n",
       "       [0.62165326, 0.37834674],\n",
       "       [0.72412241, 0.27587759],\n",
       "       [0.76457483, 0.23542517],\n",
       "       [0.74080805, 0.25919195]])"
      ]
     },
     "execution_count": 151,
     "metadata": {},
     "output_type": "execute_result"
    }
   ],
   "source": [
    "model.predict_proba(X_test)"
   ]
  },
  {
   "cell_type": "markdown",
   "id": "addddc30",
   "metadata": {},
   "source": [
    "---"
   ]
  },
  {
   "cell_type": "markdown",
   "id": "a2e58334",
   "metadata": {},
   "source": [
    "---"
   ]
  },
  {
   "cell_type": "markdown",
   "id": "c2912288",
   "metadata": {},
   "source": [
    "### Looking at Glucose as a predictor"
   ]
  },
  {
   "cell_type": "code",
   "execution_count": 152,
   "id": "4afc8ac4",
   "metadata": {},
   "outputs": [
    {
     "data": {
      "text/plain": [
       "Text(0, 0.5, 'P(Outcome)')"
      ]
     },
     "execution_count": 152,
     "metadata": {},
     "output_type": "execute_result"
    },
    {
     "data": {
      "image/png": "[encoded data removed]",
      "text/plain": [
       "<Figure size 720x504 with 1 Axes>"
      ]
     },
     "metadata": {
      "needs_background": "light"
     },
     "output_type": "display_data"
    }
   ],
   "source": [
    "x = diabetes['Glucose']\n",
    "y = diabetes['Outcome']\n",
    "\n",
    "Log_Reg_GLUC = sns.regplot(x=x,y=y,data=diabetes,logistic= True, x_jitter = True)\n",
    "plt.ylabel('P(Outcome)')"
   ]
  },
  {
   "cell_type": "code",
   "execution_count": 153,
   "id": "b7487f00",
   "metadata": {},
   "outputs": [
    {
     "data": {
      "text/plain": [
       "LogisticRegression()"
      ]
     },
     "execution_count": 153,
     "metadata": {},
     "output_type": "execute_result"
    }
   ],
   "source": [
    "from sklearn.model_selection import train_test_split\n",
    "\n",
    "X_train, X_test, y_train, y_test = train_test_split(diabetes[['Glucose']],diabetes.Outcome,train_size=0.7)\n",
    "\n",
    "model = LogisticRegression()\n",
    "\n",
    "model.fit(X_train,y_train)"
   ]
  },
  {
   "cell_type": "code",
   "execution_count": 154,
   "id": "189a4b26",
   "metadata": {},
   "outputs": [
    {
     "data": {
      "text/plain": [
       "array([0, 0, 1, 0, 1, 1, 1, 0, 0, 0, 1, 0, 0, 1, 1, 1, 1, 0, 0, 0, 0, 1,\n",
       "       0, 1, 0, 0, 0, 0, 0, 0, 0, 1, 0, 0, 0, 0, 0, 0, 0, 0, 1, 0, 0, 1,\n",
       "       0, 1, 0, 0, 0, 0, 0, 0, 0, 0, 1, 0, 0, 0, 1, 0, 0, 0, 0, 0, 0, 0,\n",
       "       1, 0, 0, 1, 0, 0, 1, 1, 0, 1, 0, 1, 0, 0, 0, 0, 0, 1, 0, 0, 0, 1,\n",
       "       0, 0, 0, 1, 1, 0, 0, 1, 1, 0, 0, 0, 0, 0, 0, 0, 0, 0, 0, 0, 0, 0,\n",
       "       0, 0, 0, 0, 0, 1, 0, 1, 1, 0, 0, 0, 0, 0, 0, 0, 0, 0, 1, 0, 0, 0,\n",
       "       0, 0, 0, 0, 1, 1, 0, 0, 0, 0, 0, 0, 0, 0, 0, 0, 1, 0, 0, 0, 0, 1,\n",
       "       1, 0, 1, 1, 1, 1, 1, 0, 0, 0, 0, 0, 0, 0, 0, 0, 0, 0, 1, 0, 1, 0,\n",
       "       1, 0, 0, 0, 1, 0, 1, 1, 0, 0, 0, 0, 1, 0, 1, 1, 0, 0, 1, 0, 1, 0,\n",
       "       1, 0, 1, 1, 0, 0, 1, 0, 0, 1, 0, 0, 0, 0, 0, 1, 0, 0, 1, 0, 0, 0,\n",
       "       0, 0, 0, 1, 0, 0, 0, 1, 1, 0, 0], dtype=int64)"
      ]
     },
     "execution_count": 154,
     "metadata": {},
     "output_type": "execute_result"
    }
   ],
   "source": [
    "model.predict(X_test)  #What the model is predicting based on the training set"
   ]
  },
  {
   "cell_type": "code",
   "execution_count": 155,
   "id": "2665efa3",
   "metadata": {},
   "outputs": [
    {
     "data": {
      "text/html": [
       "<div>\n",
       "<style scoped>\n",
       "    .dataframe tbody tr th:only-of-type {\n",
       "        vertical-align: middle;\n",
       "    }\n",
       "\n",
       "    .dataframe tbody tr th {\n",
       "        vertical-align: top;\n",
       "    }\n",
       "\n",
       "    .dataframe thead th {\n",
       "        text-align: right;\n",
       "    }\n",
       "</style>\n",
       "<table border=\"1\" class=\"dataframe\">\n",
       "  <thead>\n",
       "    <tr style=\"text-align: right;\">\n",
       "      <th></th>\n",
       "      <th>Glucose</th>\n",
       "    </tr>\n",
       "  </thead>\n",
       "  <tbody>\n",
       "    <tr>\n",
       "      <th>479</th>\n",
       "      <td>132</td>\n",
       "    </tr>\n",
       "    <tr>\n",
       "      <th>764</th>\n",
       "      <td>122</td>\n",
       "    </tr>\n",
       "    <tr>\n",
       "      <th>417</th>\n",
       "      <td>144</td>\n",
       "    </tr>\n",
       "    <tr>\n",
       "      <th>79</th>\n",
       "      <td>112</td>\n",
       "    </tr>\n",
       "    <tr>\n",
       "      <th>666</th>\n",
       "      <td>145</td>\n",
       "    </tr>\n",
       "  </tbody>\n",
       "</table>\n",
       "</div>"
      ],
      "text/plain": [
       "     Glucose\n",
       "479      132\n",
       "764      122\n",
       "417      144\n",
       "79       112\n",
       "666      145"
      ]
     },
     "execution_count": 155,
     "metadata": {},
     "output_type": "execute_result"
    }
   ],
   "source": [
    "X_test.head()"
   ]
  },
  {
   "cell_type": "code",
   "execution_count": 156,
   "id": "b64f3056",
   "metadata": {},
   "outputs": [
    {
     "data": {
      "text/plain": [
       "479    0\n",
       "764    0\n",
       "417    1\n",
       "79     0\n",
       "666    1\n",
       "Name: Outcome, dtype: int64"
      ]
     },
     "execution_count": 156,
     "metadata": {},
     "output_type": "execute_result"
    }
   ],
   "source": [
    "y_test.head()"
   ]
  },
  {
   "cell_type": "markdown",
   "id": "0de46e1e",
   "metadata": {},
   "source": [
    "#### We can look at probabilites"
   ]
  },
  {
   "cell_type": "code",
   "execution_count": 157,
   "id": "3a13ca55",
   "metadata": {},
   "outputs": [
    {
     "data": {
      "text/plain": [
       "array([[0.56494942, 0.43505058],\n",
       "       [0.64709596, 0.35290404],\n",
       "       [0.4618852 , 0.5381148 ],\n",
       "       [0.72138115, 0.27861885],\n",
       "       [0.45332183, 0.54667817],\n",
       "       [0.11754486, 0.88245514],\n",
       "       [0.49631364, 0.50368636],\n",
       "       [0.79662822, 0.20337178],\n",
       "       [0.84235746, 0.15764254],\n",
       "       [0.78521962, 0.21478038],\n",
       "       [0.47047113, 0.52952887],\n",
       "       [0.74825605, 0.25174395],\n",
       "       [0.71439381, 0.28560619],\n",
       "       [0.18787938, 0.81212062],\n",
       "       [0.29373614, 0.70626386],\n",
       "       [0.20418483, 0.79581517],\n",
       "       [0.31565774, 0.68434226],\n",
       "       [0.76724863, 0.23275137],\n",
       "       [0.75469941, 0.24530059],\n",
       "       [0.77934355, 0.22065645],\n",
       "       [0.80216085, 0.19783915],\n",
       "       [0.37806251, 0.62193749],\n",
       "       [0.86794262, 0.13205738],\n",
       "       [0.48769044, 0.51230956],\n",
       "       [0.76103052, 0.23896948],\n",
       "       [0.75469941, 0.24530059],\n",
       "       [0.89649833, 0.10350167],\n",
       "       [0.80757932, 0.19242068],\n",
       "       [0.59019734, 0.40980266],\n",
       "       [0.52217585, 0.47782415],\n",
       "       [0.82812079, 0.17187921],\n",
       "       [0.34619887, 0.65380113],\n",
       "       [0.88297393, 0.11702607],\n",
       "       [0.86393757, 0.13606243],\n",
       "       [0.8329763 , 0.1670237 ],\n",
       "       [0.67035824, 0.32964176],\n",
       "       [0.83772153, 0.16227847],\n",
       "       [0.78521962, 0.21478038],\n",
       "       [0.72826257, 0.27173743],\n",
       "       [0.59851555, 0.40148445],\n",
       "       [0.16296084, 0.83703916],\n",
       "       [0.50493902, 0.49506098],\n",
       "       [0.80216085, 0.19783915],\n",
       "       [0.16772203, 0.83227797],\n",
       "       [0.53077706, 0.46922294],\n",
       "       [0.44478598, 0.55521402],\n",
       "       [0.64709596, 0.35290404],\n",
       "       [0.79662822, 0.20337178],\n",
       "       [0.74170137, 0.25829863],\n",
       "       [0.79098118, 0.20901882],\n",
       "       [0.72826257, 0.27173743],\n",
       "       [0.59851555, 0.40148445],\n",
       "       [0.56494942, 0.43505058],\n",
       "       [0.81807539, 0.18192461],\n",
       "       [0.34619887, 0.65380113],\n",
       "       [0.72826257, 0.27173743],\n",
       "       [0.812884  , 0.187116  ],\n",
       "       [0.72138115, 0.27861885],\n",
       "       [0.17757656, 0.82242344],\n",
       "       [0.79662822, 0.20337178],\n",
       "       [0.80757932, 0.19242068],\n",
       "       [0.67793722, 0.32206278],\n",
       "       [0.70010871, 0.29989129],\n",
       "       [0.79662822, 0.20337178],\n",
       "       [0.63118259, 0.36881741],\n",
       "       [0.85130577, 0.14869423],\n",
       "       [0.47907457, 0.52092543],\n",
       "       [0.61497861, 0.38502139],\n",
       "       [0.91419161, 0.08580839],\n",
       "       [0.47907457, 0.52092543],\n",
       "       [0.64709596, 0.35290404],\n",
       "       [0.65493447, 0.34506553],\n",
       "       [0.40268916, 0.59731084],\n",
       "       [0.34619887, 0.65380113],\n",
       "       [0.82315409, 0.17684591],\n",
       "       [0.4362826 , 0.5637174 ],\n",
       "       [0.58182721, 0.41817279],\n",
       "       [0.27273023, 0.72726977],\n",
       "       [0.80216085, 0.19783915],\n",
       "       [0.62311501, 0.37688499],\n",
       "       [0.70010871, 0.29989129],\n",
       "       [0.55645115, 0.44354885],\n",
       "       [0.73503645, 0.26496355],\n",
       "       [0.47047113, 0.52952887],\n",
       "       [0.77934355, 0.22065645],\n",
       "       [0.90862151, 0.09137849],\n",
       "       [0.76103052, 0.23896948],\n",
       "       [0.4618852 , 0.5381148 ],\n",
       "       [0.86794262, 0.13205738],\n",
       "       [0.68542373, 0.31457627],\n",
       "       [0.54791972, 0.45208028],\n",
       "       [0.48769044, 0.51230956],\n",
       "       [0.35404921, 0.64595079],\n",
       "       [0.76103052, 0.23896948],\n",
       "       [0.72826257, 0.27173743],\n",
       "       [0.29373614, 0.70626386],\n",
       "       [0.45332183, 0.54667817],\n",
       "       [0.85983066, 0.14016934],\n",
       "       [0.92197083, 0.07802917],\n",
       "       [0.74170137, 0.25829863],\n",
       "       [0.62311501, 0.37688499],\n",
       "       [0.54791972, 0.45208028],\n",
       "       [0.79662822, 0.20337178],\n",
       "       [0.83772153, 0.16227847],\n",
       "       [0.63917748, 0.36082252],\n",
       "       [0.59851555, 0.40148445],\n",
       "       [0.9244171 , 0.0755829 ],\n",
       "       [0.79662822, 0.20337178],\n",
       "       [0.68542373, 0.31457627],\n",
       "       [0.80216085, 0.19783915],\n",
       "       [0.99196274, 0.00803726],\n",
       "       [0.70730234, 0.29269766],\n",
       "       [0.72826257, 0.27173743],\n",
       "       [0.82315409, 0.17684591],\n",
       "       [0.72826257, 0.27173743],\n",
       "       [0.44478598, 0.55521402],\n",
       "       [0.86393757, 0.13606243],\n",
       "       [0.44478598, 0.55521402],\n",
       "       [0.28662971, 0.71337029],\n",
       "       [0.70730234, 0.29269766],\n",
       "       [0.90571615, 0.09428385],\n",
       "       [0.62311501, 0.37688499],\n",
       "       [0.58182721, 0.41817279],\n",
       "       [0.74825605, 0.25174395],\n",
       "       [0.83772153, 0.16227847],\n",
       "       [0.62311501, 0.37688499],\n",
       "       [0.87936138, 0.12063862],\n",
       "       [0.79098118, 0.20901882],\n",
       "       [0.4362826 , 0.5637174 ],\n",
       "       [0.79098118, 0.20901882],\n",
       "       [0.74825605, 0.25174395],\n",
       "       [0.65493447, 0.34506553],\n",
       "       [0.74825605, 0.25174395],\n",
       "       [0.70010871, 0.29989129],\n",
       "       [0.59019734, 0.40980266],\n",
       "       [0.63917748, 0.36082252],\n",
       "       [0.28662971, 0.71337029],\n",
       "       [0.4618852 , 0.5381148 ],\n",
       "       [0.52217585, 0.47782415],\n",
       "       [0.59019734, 0.40980266],\n",
       "       [0.90571615, 0.09428385],\n",
       "       [0.79098118, 0.20901882],\n",
       "       [0.63917748, 0.36082252],\n",
       "       [0.70010871, 0.29989129],\n",
       "       [0.93766957, 0.06233043],\n",
       "       [0.73503645, 0.26496355],\n",
       "       [0.812884  , 0.187116  ],\n",
       "       [0.76724863, 0.23275137],\n",
       "       [0.25268904, 0.74731096],\n",
       "       [0.59019734, 0.40980266],\n",
       "       [0.81807539, 0.18192461],\n",
       "       [0.74170137, 0.25829863],\n",
       "       [0.6067774 , 0.3932226 ],\n",
       "       [0.16296084, 0.83703916],\n",
       "       [0.27273023, 0.72726977],\n",
       "       [0.74170137, 0.25829863],\n",
       "       [0.32315784, 0.67684216],\n",
       "       [0.13263279, 0.86736721],\n",
       "       [0.12117122, 0.87882878],\n",
       "       [0.39441885, 0.60558115],\n",
       "       [0.41101519, 0.58898481],\n",
       "       [0.67035824, 0.32964176],\n",
       "       [0.52217585, 0.47782415],\n",
       "       [0.812884  , 0.187116  ],\n",
       "       [0.67035824, 0.32964176],\n",
       "       [0.74825605, 0.25174395],\n",
       "       [0.72138115, 0.27861885],\n",
       "       [0.52217585, 0.47782415],\n",
       "       [0.58182721, 0.41817279],\n",
       "       [0.84688516, 0.15311484],\n",
       "       [0.82812079, 0.17187921],\n",
       "       [0.53077706, 0.46922294],\n",
       "       [0.34619887, 0.65380113],\n",
       "       [0.69281506, 0.30718494],\n",
       "       [0.23988199, 0.76011801],\n",
       "       [0.64709596, 0.35290404],\n",
       "       [0.4618852 , 0.5381148 ],\n",
       "       [0.69281506, 0.30718494],\n",
       "       [0.83772153, 0.16227847],\n",
       "       [0.84235746, 0.15764254],\n",
       "       [0.37806251, 0.62193749],\n",
       "       [0.78521962, 0.21478038],\n",
       "       [0.40268916, 0.59731084],\n",
       "       [0.18267157, 0.81732843],\n",
       "       [0.55645115, 0.44354885],\n",
       "       [0.78521962, 0.21478038],\n",
       "       [0.66268964, 0.33731036],\n",
       "       [0.94526478, 0.05473522],\n",
       "       [0.15376575, 0.84623425],\n",
       "       [0.84235746, 0.15764254],\n",
       "       [0.47047113, 0.52952887],\n",
       "       [0.42781651, 0.57218349],\n",
       "       [0.85562051, 0.14437949],\n",
       "       [0.62311501, 0.37688499],\n",
       "       [0.12489363, 0.87510637],\n",
       "       [0.87565302, 0.12434698],\n",
       "       [0.12117122, 0.87882878],\n",
       "       [0.79662822, 0.20337178],\n",
       "       [0.1986356 , 0.8013644 ],\n",
       "       [0.83772153, 0.16227847],\n",
       "       [0.33075003, 0.66924997],\n",
       "       [0.23988199, 0.76011801],\n",
       "       [0.72826257, 0.27173743],\n",
       "       [0.70730234, 0.29269766],\n",
       "       [0.22752641, 0.77247359],\n",
       "       [0.84688516, 0.15311484],\n",
       "       [0.63118259, 0.36881741],\n",
       "       [0.47907457, 0.52092543],\n",
       "       [0.64709596, 0.35290404],\n",
       "       [0.68542373, 0.31457627],\n",
       "       [0.84688516, 0.15311484],\n",
       "       [0.90272831, 0.09727169],\n",
       "       [0.74170137, 0.25829863],\n",
       "       [0.37806251, 0.62193749],\n",
       "       [0.87565302, 0.12434698],\n",
       "       [0.72826257, 0.27173743],\n",
       "       [0.13263279, 0.86736721],\n",
       "       [0.82812079, 0.17187921],\n",
       "       [0.76724863, 0.23275137],\n",
       "       [0.88649226, 0.11350774],\n",
       "       [0.66268964, 0.33731036],\n",
       "       [0.78521962, 0.21478038],\n",
       "       [0.53936003, 0.46063997],\n",
       "       [0.4362826 , 0.5637174 ],\n",
       "       [0.70730234, 0.29269766],\n",
       "       [0.80216085, 0.19783915],\n",
       "       [0.67793722, 0.32206278],\n",
       "       [0.48769044, 0.51230956],\n",
       "       [0.31565774, 0.68434226],\n",
       "       [0.89965627, 0.10034373],\n",
       "       [0.78521962, 0.21478038]])"
      ]
     },
     "execution_count": 157,
     "metadata": {},
     "output_type": "execute_result"
    }
   ],
   "source": [
    "model.predict_proba(X_test)"
   ]
  },
  {
   "cell_type": "code",
   "execution_count": 158,
   "id": "fe741ff0",
   "metadata": {},
   "outputs": [
    {
     "data": {
      "text/plain": [
       "0.7792207792207793"
      ]
     },
     "execution_count": 158,
     "metadata": {},
     "output_type": "execute_result"
    }
   ],
   "source": [
    "model.score(X_test,y_test)  #Accuracy of the Model"
   ]
  },
  {
   "cell_type": "markdown",
   "id": "b815a2fc",
   "metadata": {},
   "source": [
    "We have a model score of 78% when we use Glucose as a predictor. Not bad, it's better than using Age."
   ]
  },
  {
   "cell_type": "markdown",
   "id": "8a98bf93",
   "metadata": {},
   "source": [
    "---"
   ]
  },
  {
   "cell_type": "markdown",
   "id": "df62903b",
   "metadata": {},
   "source": [
    "---"
   ]
  },
  {
   "cell_type": "markdown",
   "id": "b2e9960a",
   "metadata": {},
   "source": [
    "### Looking at Insulin as a Predictor"
   ]
  },
  {
   "cell_type": "code",
   "execution_count": 159,
   "id": "4f129d48",
   "metadata": {},
   "outputs": [
    {
     "data": {
      "text/plain": [
       "Text(0, 0.5, 'P(Outcome)')"
      ]
     },
     "execution_count": 159,
     "metadata": {},
     "output_type": "execute_result"
    },
    {
     "data": {
      "image/png": "[encoded data removed]",
      "text/plain": [
       "<Figure size 720x504 with 1 Axes>"
      ]
     },
     "metadata": {
      "needs_background": "light"
     },
     "output_type": "display_data"
    }
   ],
   "source": [
    "x = diabetes['Insulin']\n",
    "y = diabetes['Outcome']\n",
    "\n",
    "Log_Reg_INSUL = sns.regplot(x=x,y=y,data=diabetes,logistic= True, x_jitter = True)\n",
    "plt.ylabel('P(Outcome)')"
   ]
  },
  {
   "cell_type": "code",
   "execution_count": 160,
   "id": "3a5be553",
   "metadata": {},
   "outputs": [
    {
     "data": {
      "text/plain": [
       "LogisticRegression()"
      ]
     },
     "execution_count": 160,
     "metadata": {},
     "output_type": "execute_result"
    }
   ],
   "source": [
    "X_train, X_test, y_train, y_test = train_test_split(diabetes[['Insulin']],diabetes.Outcome,train_size=0.7)\n",
    "\n",
    "model = LogisticRegression()\n",
    "\n",
    "model.fit(X_train,y_train)"
   ]
  },
  {
   "cell_type": "code",
   "execution_count": 161,
   "id": "0c779fea",
   "metadata": {},
   "outputs": [
    {
     "data": {
      "text/plain": [
       "array([0, 0, 0, 0, 0, 0, 0, 0, 0, 0, 0, 0, 0, 0, 0, 0, 0, 0, 0, 0, 0, 0,\n",
       "       0, 0, 0, 0, 0, 0, 0, 0, 0, 0, 0, 0, 0, 0, 0, 0, 0, 0, 0, 0, 0, 0,\n",
       "       0, 0, 0, 0, 0, 0, 0, 0, 0, 0, 0, 0, 0, 0, 0, 0, 0, 0, 0, 0, 0, 0,\n",
       "       0, 0, 0, 0, 0, 0, 0, 0, 0, 0, 0, 0, 0, 0, 1, 0, 0, 0, 0, 0, 0, 0,\n",
       "       0, 0, 0, 0, 0, 0, 0, 0, 0, 0, 0, 0, 0, 0, 0, 0, 0, 0, 0, 0, 0, 0,\n",
       "       0, 0, 0, 0, 0, 0, 0, 0, 0, 0, 0, 0, 0, 0, 0, 0, 0, 0, 0, 0, 0, 0,\n",
       "       0, 0, 0, 0, 0, 0, 0, 0, 0, 0, 0, 0, 0, 0, 0, 0, 0, 0, 0, 0, 0, 0,\n",
       "       0, 0, 0, 0, 0, 0, 0, 0, 0, 0, 0, 0, 1, 0, 0, 0, 0, 0, 0, 0, 0, 0,\n",
       "       0, 0, 0, 0, 0, 0, 0, 0, 0, 0, 0, 0, 0, 0, 0, 0, 0, 0, 0, 0, 0, 0,\n",
       "       0, 0, 0, 0, 0, 1, 0, 0, 0, 0, 0, 0, 0, 1, 0, 0, 0, 0, 0, 0, 0, 0,\n",
       "       0, 0, 0, 0, 0, 0, 0, 0, 0, 0, 0], dtype=int64)"
      ]
     },
     "execution_count": 161,
     "metadata": {},
     "output_type": "execute_result"
    }
   ],
   "source": [
    "model.predict(X_test)  #What the model is predicting based on the training set"
   ]
  },
  {
   "cell_type": "markdown",
   "id": "59f0eeaa",
   "metadata": {},
   "source": [
    "#### We can look at the probabilities"
   ]
  },
  {
   "cell_type": "code",
   "execution_count": 162,
   "id": "ba8ad6a7",
   "metadata": {},
   "outputs": [
    {
     "data": {
      "text/plain": [
       "array([[0.53754951, 0.46245049],\n",
       "       [0.68323132, 0.31676868],\n",
       "       [0.52911023, 0.47088977],\n",
       "       [0.68323132, 0.31676868],\n",
       "       [0.56784743, 0.43215257],\n",
       "       [0.68323132, 0.31676868],\n",
       "       [0.65080823, 0.34919177],\n",
       "       [0.68323132, 0.31676868],\n",
       "       [0.66256838, 0.33743162],\n",
       "       [0.62123285, 0.37876715],\n",
       "       [0.556935  , 0.443065  ],\n",
       "       [0.68323132, 0.31676868],\n",
       "       [0.68323132, 0.31676868],\n",
       "       [0.61074438, 0.38925562],\n",
       "       [0.68323132, 0.31676868],\n",
       "       [0.68323132, 0.31676868],\n",
       "       [0.68323132, 0.31676868],\n",
       "       [0.68323132, 0.31676868],\n",
       "       [0.68323132, 0.31676868],\n",
       "       [0.56528532, 0.43471468],\n",
       "       [0.63463847, 0.36536153],\n",
       "       [0.58377338, 0.41622662],\n",
       "       [0.68323132, 0.31676868],\n",
       "       [0.58060104, 0.41939896],\n",
       "       [0.68323132, 0.31676868],\n",
       "       [0.62917821, 0.37082179],\n",
       "       [0.68323132, 0.31676868],\n",
       "       [0.68323132, 0.31676868],\n",
       "       [0.63039452, 0.36960548],\n",
       "       [0.59576303, 0.40423697],\n",
       "       [0.68323132, 0.31676868],\n",
       "       [0.62796027, 0.37203973],\n",
       "       [0.63886161, 0.36113839],\n",
       "       [0.55500325, 0.44499675],\n",
       "       [0.68323132, 0.31676868],\n",
       "       [0.68323132, 0.31676868],\n",
       "       [0.68323132, 0.31676868],\n",
       "       [0.68323132, 0.31676868],\n",
       "       [0.68323132, 0.31676868],\n",
       "       [0.68323132, 0.31676868],\n",
       "       [0.68323132, 0.31676868],\n",
       "       [0.68323132, 0.31676868],\n",
       "       [0.63282215, 0.36717785],\n",
       "       [0.62123285, 0.37876715],\n",
       "       [0.60452578, 0.39547422],\n",
       "       [0.59639105, 0.40360895],\n",
       "       [0.63886161, 0.36113839],\n",
       "       [0.55886503, 0.44113497],\n",
       "       [0.68323132, 0.31676868],\n",
       "       [0.54143762, 0.45856238],\n",
       "       [0.62917821, 0.37082179],\n",
       "       [0.68323132, 0.31676868],\n",
       "       [0.68323132, 0.31676868],\n",
       "       [0.60888248, 0.39111752],\n",
       "       [0.68323132, 0.31676868],\n",
       "       [0.65494609, 0.34505391],\n",
       "       [0.68323132, 0.31676868],\n",
       "       [0.58820297, 0.41179703],\n",
       "       [0.6206189 , 0.3793811 ],\n",
       "       [0.68323132, 0.31676868],\n",
       "       [0.68323132, 0.31676868],\n",
       "       [0.68323132, 0.31676868],\n",
       "       [0.68323132, 0.31676868],\n",
       "       [0.68323132, 0.31676868],\n",
       "       [0.58693879, 0.41306121],\n",
       "       [0.54337981, 0.45662019],\n",
       "       [0.60826114, 0.39173886],\n",
       "       [0.6418651 , 0.3581349 ],\n",
       "       [0.68323132, 0.31676868],\n",
       "       [0.68323132, 0.31676868],\n",
       "       [0.68323132, 0.31676868],\n",
       "       [0.56784743, 0.43215257],\n",
       "       [0.60826114, 0.39173886],\n",
       "       [0.62796027, 0.37203973],\n",
       "       [0.68323132, 0.31676868],\n",
       "       [0.68323132, 0.31676868],\n",
       "       [0.68323132, 0.31676868],\n",
       "       [0.56143563, 0.43856437],\n",
       "       [0.62917821, 0.37082179],\n",
       "       [0.52976006, 0.47023994],\n",
       "       [0.48480582, 0.51519418],\n",
       "       [0.68323132, 0.31676868],\n",
       "       [0.59952633, 0.40047367],\n",
       "       [0.59009704, 0.40990296],\n",
       "       [0.62123285, 0.37876715],\n",
       "       [0.63886161, 0.36113839],\n",
       "       [0.60452578, 0.39547422],\n",
       "       [0.58250526, 0.41749474],\n",
       "       [0.68323132, 0.31676868],\n",
       "       [0.64246447, 0.35753553],\n",
       "       [0.68323132, 0.31676868],\n",
       "       [0.68323132, 0.31676868],\n",
       "       [0.68323132, 0.31676868],\n",
       "       [0.59639105, 0.40360895],\n",
       "       [0.68323132, 0.31676868],\n",
       "       [0.52585965, 0.47414035],\n",
       "       [0.50240752, 0.49759248],\n",
       "       [0.51935218, 0.48064782],\n",
       "       [0.57423658, 0.42576342],\n",
       "       [0.63886161, 0.36113839],\n",
       "       [0.68323132, 0.31676868],\n",
       "       [0.68323132, 0.31676868],\n",
       "       [0.68323132, 0.31676868],\n",
       "       [0.68323132, 0.31676868],\n",
       "       [0.68323132, 0.31676868],\n",
       "       [0.68323132, 0.31676868],\n",
       "       [0.68323132, 0.31676868],\n",
       "       [0.66895285, 0.33104715],\n",
       "       [0.68323132, 0.31676868],\n",
       "       [0.68323132, 0.31676868],\n",
       "       [0.57423658, 0.42576342],\n",
       "       [0.57996576, 0.42003424],\n",
       "       [0.68323132, 0.31676868],\n",
       "       [0.68323132, 0.31676868],\n",
       "       [0.6537662 , 0.3462338 ],\n",
       "       [0.68323132, 0.31676868],\n",
       "       [0.65258442, 0.34741558],\n",
       "       [0.68323132, 0.31676868],\n",
       "       [0.64843345, 0.35156655],\n",
       "       [0.68323132, 0.31676868],\n",
       "       [0.68323132, 0.31676868],\n",
       "       [0.65553531, 0.34446469],\n",
       "       [0.68323132, 0.31676868],\n",
       "       [0.58377338, 0.41622662],\n",
       "       [0.68323132, 0.31676868],\n",
       "       [0.68323132, 0.31676868],\n",
       "       [0.68323132, 0.31676868],\n",
       "       [0.60577228, 0.39422772],\n",
       "       [0.65435638, 0.34564362],\n",
       "       [0.68323132, 0.31676868],\n",
       "       [0.68323132, 0.31676868],\n",
       "       [0.68323132, 0.31676868],\n",
       "       [0.68323132, 0.31676868],\n",
       "       [0.59009704, 0.40990296],\n",
       "       [0.65730013, 0.34269987],\n",
       "       [0.68323132, 0.31676868],\n",
       "       [0.68323132, 0.31676868],\n",
       "       [0.68323132, 0.31676868],\n",
       "       [0.68323132, 0.31676868],\n",
       "       [0.59450607, 0.40549393],\n",
       "       [0.68323132, 0.31676868],\n",
       "       [0.65199283, 0.34800717],\n",
       "       [0.68323132, 0.31676868],\n",
       "       [0.61260306, 0.38739694],\n",
       "       [0.68323132, 0.31676868],\n",
       "       [0.57296066, 0.42703934],\n",
       "       [0.60577228, 0.39422772],\n",
       "       [0.68323132, 0.31676868],\n",
       "       [0.6590606 , 0.3409394 ],\n",
       "       [0.62123285, 0.37876715],\n",
       "       [0.6150762 , 0.3849238 ],\n",
       "       [0.63463847, 0.36536153],\n",
       "       [0.68323132, 0.31676868],\n",
       "       [0.68323132, 0.31676868],\n",
       "       [0.68323132, 0.31676868],\n",
       "       [0.68323132, 0.31676868],\n",
       "       [0.60265349, 0.39734651],\n",
       "       [0.68323132, 0.31676868],\n",
       "       [0.68323132, 0.31676868],\n",
       "       [0.68323132, 0.31676868],\n",
       "       [0.68323132, 0.31676868],\n",
       "       [0.56528532, 0.43471468],\n",
       "       [0.65494609, 0.34505391],\n",
       "       [0.64246447, 0.35753553],\n",
       "       [0.58313946, 0.41686054],\n",
       "       [0.68323132, 0.31676868],\n",
       "       [0.47959577, 0.52040423],\n",
       "       [0.68323132, 0.31676868],\n",
       "       [0.68323132, 0.31676868],\n",
       "       [0.63524307, 0.36475693],\n",
       "       [0.68323132, 0.31676868],\n",
       "       [0.59198844, 0.40801156],\n",
       "       [0.63342801, 0.36657199],\n",
       "       [0.62490832, 0.37509168],\n",
       "       [0.55177999, 0.44822001],\n",
       "       [0.68323132, 0.31676868],\n",
       "       [0.68323132, 0.31676868],\n",
       "       [0.65494609, 0.34505391],\n",
       "       [0.59009704, 0.40990296],\n",
       "       [0.68323132, 0.31676868],\n",
       "       [0.60265349, 0.39734651],\n",
       "       [0.60888248, 0.39111752],\n",
       "       [0.68323132, 0.31676868],\n",
       "       [0.63765716, 0.36234284],\n",
       "       [0.68323132, 0.31676868],\n",
       "       [0.68323132, 0.31676868],\n",
       "       [0.68323132, 0.31676868],\n",
       "       [0.68323132, 0.31676868],\n",
       "       [0.68323132, 0.31676868],\n",
       "       [0.60701741, 0.39298259],\n",
       "       [0.68323132, 0.31676868],\n",
       "       [0.68323132, 0.31676868],\n",
       "       [0.68323132, 0.31676868],\n",
       "       [0.63705428, 0.36294572],\n",
       "       [0.68323132, 0.31676868],\n",
       "       [0.58250526, 0.41749474],\n",
       "       [0.68323132, 0.31676868],\n",
       "       [0.62429672, 0.37570328],\n",
       "       [0.65080823, 0.34919177],\n",
       "       [0.64902784, 0.35097216],\n",
       "       [0.58187079, 0.41812921],\n",
       "       [0.68323132, 0.31676868],\n",
       "       [0.68323132, 0.31676868],\n",
       "       [0.47373981, 0.52626019],\n",
       "       [0.55177999, 0.44822001],\n",
       "       [0.68323132, 0.31676868],\n",
       "       [0.68323132, 0.31676868],\n",
       "       [0.58757102, 0.41242898],\n",
       "       [0.67068346, 0.32931654],\n",
       "       [0.55822188, 0.44177812],\n",
       "       [0.68323132, 0.31676868],\n",
       "       [0.49001918, 0.50998082],\n",
       "       [0.65080823, 0.34919177],\n",
       "       [0.68323132, 0.31676868],\n",
       "       [0.68323132, 0.31676868],\n",
       "       [0.68323132, 0.31676868],\n",
       "       [0.68323132, 0.31676868],\n",
       "       [0.63524307, 0.36475693],\n",
       "       [0.68323132, 0.31676868],\n",
       "       [0.56912714, 0.43087286],\n",
       "       [0.68323132, 0.31676868],\n",
       "       [0.56143563, 0.43856437],\n",
       "       [0.68323132, 0.31676868],\n",
       "       [0.68323132, 0.31676868],\n",
       "       [0.65553531, 0.34446469],\n",
       "       [0.68323132, 0.31676868],\n",
       "       [0.50631974, 0.49368026],\n",
       "       [0.64006433, 0.35993567],\n",
       "       [0.6460513 , 0.3539487 ],\n",
       "       [0.68323132, 0.31676868],\n",
       "       [0.56143563, 0.43856437]])"
      ]
     },
     "execution_count": 162,
     "metadata": {},
     "output_type": "execute_result"
    }
   ],
   "source": [
    "model.predict_proba(X_test)"
   ]
  },
  {
   "cell_type": "code",
   "execution_count": 163,
   "id": "1405bd72",
   "metadata": {},
   "outputs": [
    {
     "data": {
      "text/plain": [
       "0.6883116883116883"
      ]
     },
     "execution_count": 163,
     "metadata": {},
     "output_type": "execute_result"
    }
   ],
   "source": [
    "model.score(X_test,y_test)  #Accuracy of the Model"
   ]
  },
  {
   "cell_type": "markdown",
   "id": "d352ecda",
   "metadata": {},
   "source": [
    "the model score is 68% so the insulin variable is not very useful here. It actually performed worse than the Glucose logistic model"
   ]
  },
  {
   "cell_type": "markdown",
   "id": "84f1c88a",
   "metadata": {},
   "source": [
    "---"
   ]
  },
  {
   "cell_type": "markdown",
   "id": "b3c3ef07",
   "metadata": {},
   "source": [
    "---"
   ]
  },
  {
   "cell_type": "markdown",
   "id": "7ccc8da1",
   "metadata": {},
   "source": [
    "### Looking at Diabetes Pedigree Function as a Predictor"
   ]
  },
  {
   "cell_type": "code",
   "execution_count": 174,
   "id": "a9deb8be",
   "metadata": {},
   "outputs": [
    {
     "data": {
      "text/plain": [
       "Text(0, 0.5, 'P(Outcome)')"
      ]
     },
     "execution_count": 174,
     "metadata": {},
     "output_type": "execute_result"
    },
    {
     "data": {
      "image/png": "[encoded data removed]",
      "text/plain": [
       "<Figure size 720x504 with 1 Axes>"
      ]
     },
     "metadata": {
      "needs_background": "light"
     },
     "output_type": "display_data"
    }
   ],
   "source": [
    "x = diabetes['DiabetesPedigreeFunction']\n",
    "y = diabetes['Outcome']\n",
    "\n",
    "Log_Reg_DPF = sns.regplot(x=x,y=y,data=diabetes,logistic= True, x_jitter = True, ci = 95)\n",
    "plt.ylabel('P(Outcome)')"
   ]
  },
  {
   "cell_type": "code",
   "execution_count": null,
   "id": "b0d321bc",
   "metadata": {},
   "outputs": [],
   "source": []
  },
  {
   "cell_type": "code",
   "execution_count": null,
   "id": "c01d0da2",
   "metadata": {},
   "outputs": [],
   "source": []
  },
  {
   "cell_type": "code",
   "execution_count": 170,
   "id": "96db82f0",
   "metadata": {},
   "outputs": [
    {
     "data": {
      "text/plain": [
       "LogisticRegression()"
      ]
     },
     "execution_count": 170,
     "metadata": {},
     "output_type": "execute_result"
    }
   ],
   "source": [
    "X_train, X_test, y_train, y_test = train_test_split(diabetes[['DiabetesPedigreeFunction']],diabetes.Outcome,train_size=0.7)\n",
    "\n",
    "model = LogisticRegression()\n",
    "\n",
    "model.fit(X_train,y_train)"
   ]
  },
  {
   "cell_type": "code",
   "execution_count": 171,
   "id": "68fd14a5",
   "metadata": {},
   "outputs": [
    {
     "data": {
      "text/plain": [
       "array([0, 0, 0, 0, 0, 0, 0, 0, 0, 0, 0, 0, 0, 0, 0, 0, 0, 0, 0, 0, 0, 0,\n",
       "       0, 0, 0, 0, 0, 0, 0, 0, 0, 0, 0, 0, 0, 1, 0, 0, 1, 0, 0, 0, 0, 0,\n",
       "       0, 0, 0, 0, 0, 0, 0, 0, 0, 0, 0, 0, 0, 0, 0, 0, 0, 0, 0, 0, 0, 0,\n",
       "       0, 0, 0, 0, 0, 0, 0, 0, 0, 0, 0, 0, 0, 0, 0, 0, 0, 0, 0, 0, 0, 0,\n",
       "       0, 1, 0, 0, 0, 0, 0, 0, 0, 0, 0, 0, 0, 0, 0, 0, 0, 0, 0, 0, 0, 0,\n",
       "       0, 0, 0, 0, 0, 0, 0, 0, 0, 0, 0, 0, 1, 0, 0, 0, 0, 0, 0, 0, 0, 0,\n",
       "       0, 0, 1, 0, 0, 0, 0, 0, 0, 0, 0, 0, 0, 1, 0, 0, 0, 0, 0, 0, 0, 0,\n",
       "       0, 0, 0, 0, 0, 0, 0, 0, 0, 0, 0, 0, 0, 0, 0, 0, 0, 0, 0, 0, 0, 0,\n",
       "       0, 0, 0, 0, 0, 0, 0, 0, 0, 1, 0, 0, 0, 0, 0, 0, 0, 0, 0, 0, 0, 0,\n",
       "       0, 0, 0, 0, 0, 0, 0, 0, 0, 0, 0, 0, 0, 0, 0, 0, 0, 0, 0, 1, 0, 0,\n",
       "       0, 0, 1, 0, 0, 0, 0, 0, 0, 0, 0], dtype=int64)"
      ]
     },
     "execution_count": 171,
     "metadata": {},
     "output_type": "execute_result"
    }
   ],
   "source": [
    "model.predict(X_test)"
   ]
  },
  {
   "cell_type": "markdown",
   "id": "31ac1e98",
   "metadata": {},
   "source": [
    "#### We can look at the Probabilities"
   ]
  },
  {
   "cell_type": "code",
   "execution_count": 172,
   "id": "719097b2",
   "metadata": {},
   "outputs": [
    {
     "data": {
      "text/plain": [
       "array([[0.67749058, 0.32250942],\n",
       "       [0.70762377, 0.29237623],\n",
       "       [0.72844868, 0.27155132],\n",
       "       [0.64975772, 0.35024228],\n",
       "       [0.59843312, 0.40156688],\n",
       "       [0.72804545, 0.27195455],\n",
       "       [0.70168735, 0.29831265],\n",
       "       [0.64440682, 0.35559318],\n",
       "       [0.70126067, 0.29873933],\n",
       "       [0.73265991, 0.26734009],\n",
       "       [0.67032668, 0.32967332],\n",
       "       [0.70720205, 0.29279795],\n",
       "       [0.7023267 , 0.2976733 ],\n",
       "       [0.54182251, 0.45817749],\n",
       "       [0.70677996, 0.29322004],\n",
       "       [0.67949068, 0.32050932],\n",
       "       [0.59205155, 0.40794845],\n",
       "       [0.64042839, 0.35957161],\n",
       "       [0.68413193, 0.31586807],\n",
       "       [0.66217179, 0.33782821],\n",
       "       [0.71390663, 0.28609337],\n",
       "       [0.69113407, 0.30886593],\n",
       "       [0.61012585, 0.38987415],\n",
       "       [0.51390094, 0.48609906],\n",
       "       [0.6003901 , 0.3996099 ],\n",
       "       [0.64464023, 0.35535977],\n",
       "       [0.60283181, 0.39716819],\n",
       "       [0.73584048, 0.26415952],\n",
       "       [0.66965092, 0.33034908],\n",
       "       [0.71804995, 0.28195005],\n",
       "       [0.61785215, 0.38214785],\n",
       "       [0.67369487, 0.32630513],\n",
       "       [0.54030468, 0.45969532],\n",
       "       [0.73425323, 0.26574677],\n",
       "       [0.71223913, 0.28776087],\n",
       "       [0.45797205, 0.54202795],\n",
       "       [0.7186683 , 0.2813317 ],\n",
       "       [0.58217355, 0.41782645],\n",
       "       [0.35074965, 0.64925035],\n",
       "       [0.72885154, 0.27114846],\n",
       "       [0.66739335, 0.33260665],\n",
       "       [0.57845178, 0.42154822],\n",
       "       [0.51771746, 0.48228254],\n",
       "       [0.70019246, 0.29980754],\n",
       "       [0.57621441, 0.42378559],\n",
       "       [0.7143226 , 0.2856774 ],\n",
       "       [0.69200328, 0.30799672],\n",
       "       [0.71077532, 0.28922468],\n",
       "       [0.72378894, 0.27621106],\n",
       "       [0.67347087, 0.32652913],\n",
       "       [0.69395403, 0.30604597],\n",
       "       [0.70317794, 0.29682206],\n",
       "       [0.62384735, 0.37615265],\n",
       "       [0.73186098, 0.26813902],\n",
       "       [0.64347248, 0.35652752],\n",
       "       [0.5622261 , 0.4377739 ],\n",
       "       [0.65530136, 0.34469864],\n",
       "       [0.70062   , 0.29938   ],\n",
       "       [0.6511475 , 0.3488525 ],\n",
       "       [0.66829731, 0.33170269],\n",
       "       [0.70867653, 0.29132347],\n",
       "       [0.66648816, 0.33351184],\n",
       "       [0.52686783, 0.47313217],\n",
       "       [0.56873438, 0.43126562],\n",
       "       [0.57472108, 0.42527892],\n",
       "       [0.60087885, 0.39912115],\n",
       "       [0.73484916, 0.26515084],\n",
       "       [0.64253706, 0.35746294],\n",
       "       [0.66194386, 0.33805614],\n",
       "       [0.67682243, 0.32317757],\n",
       "       [0.70677996, 0.29322004],\n",
       "       [0.73305881, 0.26694119],\n",
       "       [0.67212525, 0.32787475],\n",
       "       [0.65276566, 0.34723434],\n",
       "       [0.64113189, 0.35886811],\n",
       "       [0.69373762, 0.30626238],\n",
       "       [0.64859762, 0.35140238],\n",
       "       [0.6089135 , 0.3910865 ],\n",
       "       [0.64813309, 0.35186691],\n",
       "       [0.7211334 , 0.2788666 ],\n",
       "       [0.6137547 , 0.3862453 ],\n",
       "       [0.70720205, 0.29279795],\n",
       "       [0.73045921, 0.26954079],\n",
       "       [0.51288291, 0.48711709],\n",
       "       [0.68960968, 0.31039032],\n",
       "       [0.72824711, 0.27175289],\n",
       "       [0.61327157, 0.38672843],\n",
       "       [0.61809266, 0.38190734],\n",
       "       [0.65599139, 0.34400861],\n",
       "       [0.49556693, 0.50443307],\n",
       "       [0.7057232 , 0.2942768 ],\n",
       "       [0.70656879, 0.29343121],\n",
       "       [0.70677996, 0.29322004],\n",
       "       [0.709097  , 0.290903  ],\n",
       "       [0.67615355, 0.32384645],\n",
       "       [0.6913515 , 0.3086485 ],\n",
       "       [0.62861644, 0.37138356],\n",
       "       [0.69222037, 0.30777963],\n",
       "       [0.72500928, 0.27499072],\n",
       "       [0.70720205, 0.29279795],\n",
       "       [0.61133684, 0.38866316],\n",
       "       [0.60648476, 0.39351524],\n",
       "       [0.56398054, 0.43601946],\n",
       "       [0.6074569 , 0.3925431 ],\n",
       "       [0.69330455, 0.30669545],\n",
       "       [0.6701015 , 0.3298985 ],\n",
       "       [0.72399256, 0.27600744],\n",
       "       [0.67860255, 0.32139745],\n",
       "       [0.63099168, 0.36900832],\n",
       "       [0.72439953, 0.27560047],\n",
       "       [0.70360303, 0.29639697],\n",
       "       [0.61857351, 0.38142649],\n",
       "       [0.71846227, 0.28153773],\n",
       "       [0.57447206, 0.42552794],\n",
       "       [0.7134903 , 0.2865097 ],\n",
       "       [0.73045921, 0.26954079],\n",
       "       [0.63760838, 0.36239162],\n",
       "       [0.68873676, 0.31126324],\n",
       "       [0.70825569, 0.29174431],\n",
       "       [0.59622777, 0.40377223],\n",
       "       [0.68126303, 0.31873697],\n",
       "       [0.66671457, 0.33328543],\n",
       "       [0.35820918, 0.64179082],\n",
       "       [0.64603925, 0.35396075],\n",
       "       [0.72010789, 0.27989211],\n",
       "       [0.7023267 , 0.2976733 ],\n",
       "       [0.71990251, 0.28009749],\n",
       "       [0.60867086, 0.39132914],\n",
       "       [0.72925402, 0.27074598],\n",
       "       [0.72703573, 0.27296427],\n",
       "       [0.6003901 , 0.3996099 ],\n",
       "       [0.70741295, 0.29258705],\n",
       "       [0.71098471, 0.28901529],\n",
       "       [0.57272786, 0.42727214],\n",
       "       [0.47521193, 0.52478807],\n",
       "       [0.59769845, 0.40230155],\n",
       "       [0.71223913, 0.28776087],\n",
       "       [0.71846227, 0.28153773],\n",
       "       [0.71369851, 0.28630149],\n",
       "       [0.54333957, 0.45666043],\n",
       "       [0.72031317, 0.27968683],\n",
       "       [0.61664873, 0.38335127],\n",
       "       [0.63407002, 0.36592998],\n",
       "       [0.73206085, 0.26793915],\n",
       "       [0.74076131, 0.25923869],\n",
       "       [0.43331269, 0.56668731],\n",
       "       [0.68501186, 0.31498814],\n",
       "       [0.70867653, 0.29132347],\n",
       "       [0.65530136, 0.34469864],\n",
       "       [0.6511475 , 0.3488525 ],\n",
       "       [0.71307361, 0.28692639],\n",
       "       [0.64813309, 0.35186691],\n",
       "       [0.6089135 , 0.3910865 ],\n",
       "       [0.58043786, 0.41956214],\n",
       "       [0.57596561, 0.42403439],\n",
       "       [0.65530136, 0.34469864],\n",
       "       [0.72338141, 0.27661859],\n",
       "       [0.72521234, 0.27478766],\n",
       "       [0.61713027, 0.38286973],\n",
       "       [0.70529988, 0.29470012],\n",
       "       [0.70762377, 0.29237623],\n",
       "       [0.70529988, 0.29470012],\n",
       "       [0.7078345 , 0.2921655 ],\n",
       "       [0.72541532, 0.27458468],\n",
       "       [0.71307361, 0.28692639],\n",
       "       [0.6902635 , 0.3097365 ],\n",
       "       [0.70825569, 0.29174431],\n",
       "       [0.58118197, 0.41881803],\n",
       "       [0.55619934, 0.44380066],\n",
       "       [0.71182135, 0.28817865],\n",
       "       [0.66217179, 0.33782821],\n",
       "       [0.61254646, 0.38745354],\n",
       "       [0.64066295, 0.35933705],\n",
       "       [0.73643413, 0.26356587],\n",
       "       [0.54939949, 0.45060051],\n",
       "       [0.72865016, 0.27134984],\n",
       "       [0.60161159, 0.39838841],\n",
       "       [0.66285514, 0.33714486],\n",
       "       [0.68829979, 0.31170021],\n",
       "       [0.58613314, 0.41386686],\n",
       "       [0.72051837, 0.27948163],\n",
       "       [0.65851585, 0.34148415],\n",
       "       [0.64113189, 0.35886811],\n",
       "       [0.68939158, 0.31060842],\n",
       "       [0.72195216, 0.27804784],\n",
       "       [0.49098337, 0.50901663],\n",
       "       [0.72399256, 0.27600744],\n",
       "       [0.60794264, 0.39205736],\n",
       "       [0.71223913, 0.28776087],\n",
       "       [0.71014663, 0.28985337],\n",
       "       [0.72985704, 0.27014296],\n",
       "       [0.72945512, 0.27054488],\n",
       "       [0.71453045, 0.28546955],\n",
       "       [0.67122659, 0.32877341],\n",
       "       [0.7023267 , 0.2976733 ],\n",
       "       [0.70867653, 0.29132347],\n",
       "       [0.69373762, 0.30626238],\n",
       "       [0.68829979, 0.31170021],\n",
       "       [0.72174761, 0.27825239],\n",
       "       [0.5592149 , 0.4407851 ],\n",
       "       [0.72663119, 0.27336881],\n",
       "       [0.62932967, 0.37067033],\n",
       "       [0.73045921, 0.26954079],\n",
       "       [0.68829979, 0.31170021],\n",
       "       [0.68632928, 0.31367072],\n",
       "       [0.72784369, 0.27215631],\n",
       "       [0.71515346, 0.28484654],\n",
       "       [0.63501502, 0.36498498],\n",
       "       [0.56848449, 0.43151551],\n",
       "       [0.71203029, 0.28796971],\n",
       "       [0.72602367, 0.27397633],\n",
       "       [0.63312399, 0.36687601],\n",
       "       [0.71743078, 0.28256922],\n",
       "       [0.64836539, 0.35163461],\n",
       "       [0.69589786, 0.30410214],\n",
       "       [0.69912206, 0.30087794],\n",
       "       [0.72419609, 0.27580391],\n",
       "       [0.43231233, 0.56768767],\n",
       "       [0.67369487, 0.32630513],\n",
       "       [0.66784548, 0.33215452],\n",
       "       [0.71908007, 0.28091993],\n",
       "       [0.50320749, 0.49679251],\n",
       "       [0.45140458, 0.54859542],\n",
       "       [0.71014663, 0.28985337],\n",
       "       [0.71598285, 0.28401715],\n",
       "       [0.67704523, 0.32295477],\n",
       "       [0.52661387, 0.47338613],\n",
       "       [0.72358522, 0.27641478],\n",
       "       [0.71161232, 0.28838768],\n",
       "       [0.72985704, 0.27014296],\n",
       "       [0.67815801, 0.32184199]])"
      ]
     },
     "execution_count": 172,
     "metadata": {},
     "output_type": "execute_result"
    }
   ],
   "source": [
    "model.predict_proba(X_test)"
   ]
  },
  {
   "cell_type": "code",
   "execution_count": 175,
   "id": "b696fdc9",
   "metadata": {},
   "outputs": [
    {
     "data": {
      "text/plain": [
       "0.6493506493506493"
      ]
     },
     "execution_count": 175,
     "metadata": {},
     "output_type": "execute_result"
    }
   ],
   "source": [
    "model.score(X_test,y_test)"
   ]
  },
  {
   "cell_type": "markdown",
   "id": "1e9e8c3d",
   "metadata": {},
   "source": [
    "65% Model Score"
   ]
  },
  {
   "cell_type": "code",
   "execution_count": null,
   "id": "9ea99ad3",
   "metadata": {},
   "outputs": [],
   "source": []
  }
 ],
 "metadata": {
  "kernelspec": {
   "display_name": "Python 3",
   "language": "python",
   "name": "python3"
  },
  "language_info": {
   "codemirror_mode": {
    "name": "ipython",
    "version": 3
   },
   "file_extension": ".py",
   "mimetype": "text/x-python",
   "name": "python",
   "nbconvert_exporter": "python",
   "pygments_lexer": "ipython3",
   "version": "3.8.8"
  }
 },
 "nbformat": 4,
 "nbformat_minor": 5
}
